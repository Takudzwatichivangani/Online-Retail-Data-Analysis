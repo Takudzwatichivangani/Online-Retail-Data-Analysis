{
 "cells": [
  {
   "cell_type": "markdown",
   "metadata": {},
   "source": [
    "# Online Retail Data Analysis "
   ]
  },
  {
   "cell_type": "markdown",
   "metadata": {},
   "source": [
    "The following is a project for data analytics for an Online Retail Company \n",
    "which is involved in selling a different number of products. This project turns \n",
    "to open up hidden information and insights of the company so that we can make decisions and predict the future of the company.\n",
    "\n",
    "The dataset contains the following columns;\n",
    "Bill-----A 6 digit unique bill number assigned to each transaction.\n",
    "MerchandiseID-----A unique number assigned to each distinct product.\n",
    "Product-----Name of the Product.\n",
    "Quota----Quantity of each product per transaction.\n",
    "BillDate----Billing Date of transaction .\n",
    "Amount----Product price per unit.\n",
    "CustomerID-----A 5 digit unique number assigned to each customer.\n",
    "Country-----Name of the country where customer resides.\n"
   ]
  },
  {
   "cell_type": "code",
   "execution_count": 174,
   "metadata": {},
   "outputs": [
    {
     "data": {
      "text/html": [
       "        <script type=\"text/javascript\">\n",
       "        window.PlotlyConfig = {MathJaxConfig: 'local'};\n",
       "        if (window.MathJax) {MathJax.Hub.Config({SVG: {font: \"STIX-Web\"}});}\n",
       "        if (typeof require !== 'undefined') {\n",
       "        require.undef(\"plotly\");\n",
       "        requirejs.config({\n",
       "            paths: {\n",
       "                'plotly': ['https://cdn.plot.ly/plotly-2.9.0.min']\n",
       "            }\n",
       "        });\n",
       "        require(['plotly'], function(Plotly) {\n",
       "            window._Plotly = Plotly;\n",
       "        });\n",
       "        }\n",
       "        </script>\n",
       "        "
      ]
     },
     "metadata": {},
     "output_type": "display_data"
    }
   ],
   "source": [
    "#importing required libraries\n",
    "\n",
    "import warnings\n",
    "warnings.filterwarnings('ignore')\n",
    "\n",
    "import numpy as np\n",
    "import pandas as pd\n",
    "\n",
    "import seaborn as sns\n",
    "sns.set_style('whitegrid')\n",
    "import matplotlib.pyplot as plt\n",
    "%matplotlib inline\n",
    "import plotly.express as px\n",
    "import cufflinks as cf\n",
    "cf.go_offline()\n",
    "\n",
    "from datetime import datetime"
   ]
  },
  {
   "cell_type": "markdown",
   "metadata": {},
   "source": [
    "Loading the dataset"
   ]
  },
  {
   "cell_type": "code",
   "execution_count": 175,
   "metadata": {},
   "outputs": [
    {
     "data": {
      "text/html": [
       "<div>\n",
       "<style scoped>\n",
       "    .dataframe tbody tr th:only-of-type {\n",
       "        vertical-align: middle;\n",
       "    }\n",
       "\n",
       "    .dataframe tbody tr th {\n",
       "        vertical-align: top;\n",
       "    }\n",
       "\n",
       "    .dataframe thead th {\n",
       "        text-align: right;\n",
       "    }\n",
       "</style>\n",
       "<table border=\"1\" class=\"dataframe\">\n",
       "  <thead>\n",
       "    <tr style=\"text-align: right;\">\n",
       "      <th></th>\n",
       "      <th>Bill</th>\n",
       "      <th>MerchandiseID</th>\n",
       "      <th>Product</th>\n",
       "      <th>Quota</th>\n",
       "      <th>BillDate</th>\n",
       "      <th>Amount</th>\n",
       "      <th>CustomerID</th>\n",
       "      <th>Country</th>\n",
       "    </tr>\n",
       "  </thead>\n",
       "  <tbody>\n",
       "    <tr>\n",
       "      <th>0</th>\n",
       "      <td>532657</td>\n",
       "      <td>21314</td>\n",
       "      <td>Small glass heart trinket pot</td>\n",
       "      <td>12</td>\n",
       "      <td>2018-11-14</td>\n",
       "      <td>4.10</td>\n",
       "      <td>14562.0</td>\n",
       "      <td>United Kingdom</td>\n",
       "    </tr>\n",
       "    <tr>\n",
       "      <th>1</th>\n",
       "      <td>563214</td>\n",
       "      <td>22383</td>\n",
       "      <td>Lunch bag suki design</td>\n",
       "      <td>2</td>\n",
       "      <td>2019-8-14</td>\n",
       "      <td>3.65</td>\n",
       "      <td>16370.0</td>\n",
       "      <td>United Kingdom</td>\n",
       "    </tr>\n",
       "    <tr>\n",
       "      <th>2</th>\n",
       "      <td>507597</td>\n",
       "      <td>22561</td>\n",
       "      <td>Wooden school colouring set</td>\n",
       "      <td>12</td>\n",
       "      <td>2018-5-10</td>\n",
       "      <td>3.65</td>\n",
       "      <td>17700.0</td>\n",
       "      <td>United Kingdom</td>\n",
       "    </tr>\n",
       "    <tr>\n",
       "      <th>3</th>\n",
       "      <td>491634</td>\n",
       "      <td>21588</td>\n",
       "      <td>Retro spot giant  tube matches</td>\n",
       "      <td>1</td>\n",
       "      <td>2017-12-11</td>\n",
       "      <td>4.55</td>\n",
       "      <td>17841.0</td>\n",
       "      <td>United Kingdom</td>\n",
       "    </tr>\n",
       "    <tr>\n",
       "      <th>4</th>\n",
       "      <td>496007</td>\n",
       "      <td>85232B</td>\n",
       "      <td>Set/3 russian doll stacking tins</td>\n",
       "      <td>3</td>\n",
       "      <td>2018-1-28</td>\n",
       "      <td>6.95</td>\n",
       "      <td>15203.0</td>\n",
       "      <td>United Kingdom</td>\n",
       "    </tr>\n",
       "  </tbody>\n",
       "</table>\n",
       "</div>"
      ],
      "text/plain": [
       "     Bill MerchandiseID                           Product  Quota    BillDate  \\\n",
       "0  532657         21314     Small glass heart trinket pot     12  2018-11-14   \n",
       "1  563214         22383            Lunch bag suki design       2   2019-8-14   \n",
       "2  507597         22561       Wooden school colouring set     12   2018-5-10   \n",
       "3  491634         21588    Retro spot giant  tube matches      1  2017-12-11   \n",
       "4  496007        85232B  Set/3 russian doll stacking tins      3   2018-1-28   \n",
       "\n",
       "   Amount  CustomerID         Country  \n",
       "0    4.10     14562.0  United Kingdom  \n",
       "1    3.65     16370.0  United Kingdom  \n",
       "2    3.65     17700.0  United Kingdom  \n",
       "3    4.55     17841.0  United Kingdom  \n",
       "4    6.95     15203.0  United Kingdom  "
      ]
     },
     "execution_count": 175,
     "metadata": {},
     "output_type": "execute_result"
    }
   ],
   "source": [
    "df=pd.read_csv('RetailDataIII.csv')\n",
    "df.head()"
   ]
  },
  {
   "cell_type": "markdown",
   "metadata": {},
   "source": [
    "## Data Preparation and Statistical analysis"
   ]
  },
  {
   "cell_type": "code",
   "execution_count": 176,
   "metadata": {},
   "outputs": [
    {
     "data": {
      "text/plain": [
       "Index(['Bill', 'MerchandiseID', 'Product', 'Quota', 'BillDate', 'Amount',\n",
       "       'CustomerID', 'Country'],\n",
       "      dtype='object')"
      ]
     },
     "execution_count": 176,
     "metadata": {},
     "output_type": "execute_result"
    }
   ],
   "source": [
    "df.columns"
   ]
  },
  {
   "cell_type": "code",
   "execution_count": 177,
   "metadata": {},
   "outputs": [
    {
     "name": "stdout",
     "output_type": "stream",
     "text": [
      "<class 'pandas.core.frame.DataFrame'>\n",
      "RangeIndex: 1067371 entries, 0 to 1067370\n",
      "Data columns (total 8 columns):\n",
      " #   Column         Non-Null Count    Dtype  \n",
      "---  ------         --------------    -----  \n",
      " 0   Bill           1067371 non-null  object \n",
      " 1   MerchandiseID  1067371 non-null  object \n",
      " 2   Product        1062989 non-null  object \n",
      " 3   Quota          1067371 non-null  int64  \n",
      " 4   BillDate       1067371 non-null  object \n",
      " 5   Amount         1067371 non-null  float64\n",
      " 6   CustomerID     824364 non-null   float64\n",
      " 7   Country        1067371 non-null  object \n",
      "dtypes: float64(2), int64(1), object(5)\n",
      "memory usage: 65.1+ MB\n"
     ]
    }
   ],
   "source": [
    "df.info()"
   ]
  },
  {
   "cell_type": "code",
   "execution_count": 178,
   "metadata": {},
   "outputs": [
    {
     "data": {
      "text/html": [
       "<div>\n",
       "<style scoped>\n",
       "    .dataframe tbody tr th:only-of-type {\n",
       "        vertical-align: middle;\n",
       "    }\n",
       "\n",
       "    .dataframe tbody tr th {\n",
       "        vertical-align: top;\n",
       "    }\n",
       "\n",
       "    .dataframe thead th {\n",
       "        text-align: right;\n",
       "    }\n",
       "</style>\n",
       "<table border=\"1\" class=\"dataframe\">\n",
       "  <thead>\n",
       "    <tr style=\"text-align: right;\">\n",
       "      <th></th>\n",
       "      <th>Quota</th>\n",
       "      <th>Amount</th>\n",
       "      <th>CustomerID</th>\n",
       "    </tr>\n",
       "  </thead>\n",
       "  <tbody>\n",
       "    <tr>\n",
       "      <th>count</th>\n",
       "      <td>1.067371e+06</td>\n",
       "      <td>1.067371e+06</td>\n",
       "      <td>824364.000000</td>\n",
       "    </tr>\n",
       "    <tr>\n",
       "      <th>mean</th>\n",
       "      <td>9.938898e+00</td>\n",
       "      <td>6.649388e+00</td>\n",
       "      <td>15324.638504</td>\n",
       "    </tr>\n",
       "    <tr>\n",
       "      <th>std</th>\n",
       "      <td>1.727058e+02</td>\n",
       "      <td>1.235531e+02</td>\n",
       "      <td>1697.464450</td>\n",
       "    </tr>\n",
       "    <tr>\n",
       "      <th>min</th>\n",
       "      <td>-8.099500e+04</td>\n",
       "      <td>-5.359236e+04</td>\n",
       "      <td>12346.000000</td>\n",
       "    </tr>\n",
       "    <tr>\n",
       "      <th>25%</th>\n",
       "      <td>1.000000e+00</td>\n",
       "      <td>3.250000e+00</td>\n",
       "      <td>13975.000000</td>\n",
       "    </tr>\n",
       "    <tr>\n",
       "      <th>50%</th>\n",
       "      <td>3.000000e+00</td>\n",
       "      <td>4.100000e+00</td>\n",
       "      <td>15255.000000</td>\n",
       "    </tr>\n",
       "    <tr>\n",
       "      <th>75%</th>\n",
       "      <td>1.000000e+01</td>\n",
       "      <td>6.150000e+00</td>\n",
       "      <td>16797.000000</td>\n",
       "    </tr>\n",
       "    <tr>\n",
       "      <th>max</th>\n",
       "      <td>8.099500e+04</td>\n",
       "      <td>3.897200e+04</td>\n",
       "      <td>18287.000000</td>\n",
       "    </tr>\n",
       "  </tbody>\n",
       "</table>\n",
       "</div>"
      ],
      "text/plain": [
       "              Quota        Amount     CustomerID\n",
       "count  1.067371e+06  1.067371e+06  824364.000000\n",
       "mean   9.938898e+00  6.649388e+00   15324.638504\n",
       "std    1.727058e+02  1.235531e+02    1697.464450\n",
       "min   -8.099500e+04 -5.359236e+04   12346.000000\n",
       "25%    1.000000e+00  3.250000e+00   13975.000000\n",
       "50%    3.000000e+00  4.100000e+00   15255.000000\n",
       "75%    1.000000e+01  6.150000e+00   16797.000000\n",
       "max    8.099500e+04  3.897200e+04   18287.000000"
      ]
     },
     "execution_count": 178,
     "metadata": {},
     "output_type": "execute_result"
    }
   ],
   "source": [
    "df.describe()"
   ]
  },
  {
   "cell_type": "markdown",
   "metadata": {},
   "source": [
    "# Cleaning the Data"
   ]
  },
  {
   "cell_type": "code",
   "execution_count": 179,
   "metadata": {},
   "outputs": [
    {
     "data": {
      "text/plain": [
       "Bill             False\n",
       "MerchandiseID    False\n",
       "Product           True\n",
       "Quota            False\n",
       "BillDate         False\n",
       "Amount           False\n",
       "CustomerID        True\n",
       "Country          False\n",
       "dtype: bool"
      ]
     },
     "execution_count": 179,
     "metadata": {},
     "output_type": "execute_result"
    }
   ],
   "source": [
    "df.isnull().any()"
   ]
  },
  {
   "cell_type": "markdown",
   "metadata": {},
   "source": [
    "Checking and removing null values"
   ]
  },
  {
   "cell_type": "code",
   "execution_count": 180,
   "metadata": {},
   "outputs": [
    {
     "data": {
      "text/plain": [
       "Bill                  0\n",
       "MerchandiseID         0\n",
       "Product            4382\n",
       "Quota                 0\n",
       "BillDate              0\n",
       "Amount                0\n",
       "CustomerID       243007\n",
       "Country               0\n",
       "dtype: int64"
      ]
     },
     "execution_count": 180,
     "metadata": {},
     "output_type": "execute_result"
    }
   ],
   "source": [
    "df.isnull().sum()"
   ]
  },
  {
   "cell_type": "code",
   "execution_count": 181,
   "metadata": {},
   "outputs": [
    {
     "data": {
      "text/html": [
       "<div>\n",
       "<style scoped>\n",
       "    .dataframe tbody tr th:only-of-type {\n",
       "        vertical-align: middle;\n",
       "    }\n",
       "\n",
       "    .dataframe tbody tr th {\n",
       "        vertical-align: top;\n",
       "    }\n",
       "\n",
       "    .dataframe thead th {\n",
       "        text-align: right;\n",
       "    }\n",
       "</style>\n",
       "<table border=\"1\" class=\"dataframe\">\n",
       "  <thead>\n",
       "    <tr style=\"text-align: right;\">\n",
       "      <th></th>\n",
       "      <th>Bill</th>\n",
       "      <th>MerchandiseID</th>\n",
       "      <th>Product</th>\n",
       "      <th>Quota</th>\n",
       "      <th>BillDate</th>\n",
       "      <th>Amount</th>\n",
       "      <th>CustomerID</th>\n",
       "      <th>Country</th>\n",
       "    </tr>\n",
       "  </thead>\n",
       "  <tbody>\n",
       "    <tr>\n",
       "      <th>0</th>\n",
       "      <td>532657</td>\n",
       "      <td>21314</td>\n",
       "      <td>Small glass heart trinket pot</td>\n",
       "      <td>12</td>\n",
       "      <td>2018-11-14</td>\n",
       "      <td>4.10</td>\n",
       "      <td>14562.0</td>\n",
       "      <td>United Kingdom</td>\n",
       "    </tr>\n",
       "    <tr>\n",
       "      <th>1</th>\n",
       "      <td>563214</td>\n",
       "      <td>22383</td>\n",
       "      <td>Lunch bag suki design</td>\n",
       "      <td>2</td>\n",
       "      <td>2019-8-14</td>\n",
       "      <td>3.65</td>\n",
       "      <td>16370.0</td>\n",
       "      <td>United Kingdom</td>\n",
       "    </tr>\n",
       "    <tr>\n",
       "      <th>2</th>\n",
       "      <td>507597</td>\n",
       "      <td>22561</td>\n",
       "      <td>Wooden school colouring set</td>\n",
       "      <td>12</td>\n",
       "      <td>2018-5-10</td>\n",
       "      <td>3.65</td>\n",
       "      <td>17700.0</td>\n",
       "      <td>United Kingdom</td>\n",
       "    </tr>\n",
       "    <tr>\n",
       "      <th>3</th>\n",
       "      <td>491634</td>\n",
       "      <td>21588</td>\n",
       "      <td>Retro spot giant  tube matches</td>\n",
       "      <td>1</td>\n",
       "      <td>2017-12-11</td>\n",
       "      <td>4.55</td>\n",
       "      <td>17841.0</td>\n",
       "      <td>United Kingdom</td>\n",
       "    </tr>\n",
       "    <tr>\n",
       "      <th>4</th>\n",
       "      <td>496007</td>\n",
       "      <td>85232B</td>\n",
       "      <td>Set/3 russian doll stacking tins</td>\n",
       "      <td>3</td>\n",
       "      <td>2018-1-28</td>\n",
       "      <td>6.95</td>\n",
       "      <td>15203.0</td>\n",
       "      <td>United Kingdom</td>\n",
       "    </tr>\n",
       "  </tbody>\n",
       "</table>\n",
       "</div>"
      ],
      "text/plain": [
       "     Bill MerchandiseID                           Product  Quota    BillDate  \\\n",
       "0  532657         21314     Small glass heart trinket pot     12  2018-11-14   \n",
       "1  563214         22383            Lunch bag suki design       2   2019-8-14   \n",
       "2  507597         22561       Wooden school colouring set     12   2018-5-10   \n",
       "3  491634         21588    Retro spot giant  tube matches      1  2017-12-11   \n",
       "4  496007        85232B  Set/3 russian doll stacking tins      3   2018-1-28   \n",
       "\n",
       "   Amount  CustomerID         Country  \n",
       "0    4.10     14562.0  United Kingdom  \n",
       "1    3.65     16370.0  United Kingdom  \n",
       "2    3.65     17700.0  United Kingdom  \n",
       "3    4.55     17841.0  United Kingdom  \n",
       "4    6.95     15203.0  United Kingdom  "
      ]
     },
     "execution_count": 181,
     "metadata": {},
     "output_type": "execute_result"
    }
   ],
   "source": [
    "df.dropna(inplace=True)\n",
    "df.head()"
   ]
  },
  {
   "cell_type": "markdown",
   "metadata": {},
   "source": [
    "Checking and removing duplicates"
   ]
  },
  {
   "cell_type": "code",
   "execution_count": 182,
   "metadata": {},
   "outputs": [
    {
     "data": {
      "text/plain": [
       "True"
      ]
     },
     "execution_count": 182,
     "metadata": {},
     "output_type": "execute_result"
    }
   ],
   "source": [
    "df.duplicated().any()"
   ]
  },
  {
   "cell_type": "code",
   "execution_count": 183,
   "metadata": {},
   "outputs": [
    {
     "data": {
      "text/html": [
       "<div>\n",
       "<style scoped>\n",
       "    .dataframe tbody tr th:only-of-type {\n",
       "        vertical-align: middle;\n",
       "    }\n",
       "\n",
       "    .dataframe tbody tr th {\n",
       "        vertical-align: top;\n",
       "    }\n",
       "\n",
       "    .dataframe thead th {\n",
       "        text-align: right;\n",
       "    }\n",
       "</style>\n",
       "<table border=\"1\" class=\"dataframe\">\n",
       "  <thead>\n",
       "    <tr style=\"text-align: right;\">\n",
       "      <th></th>\n",
       "      <th>Bill</th>\n",
       "      <th>MerchandiseID</th>\n",
       "      <th>Product</th>\n",
       "      <th>Quota</th>\n",
       "      <th>BillDate</th>\n",
       "      <th>Amount</th>\n",
       "      <th>CustomerID</th>\n",
       "      <th>Country</th>\n",
       "    </tr>\n",
       "  </thead>\n",
       "  <tbody>\n",
       "    <tr>\n",
       "      <th>0</th>\n",
       "      <td>532657</td>\n",
       "      <td>21314</td>\n",
       "      <td>Small glass heart trinket pot</td>\n",
       "      <td>12</td>\n",
       "      <td>2018-11-14</td>\n",
       "      <td>4.10</td>\n",
       "      <td>14562.0</td>\n",
       "      <td>United Kingdom</td>\n",
       "    </tr>\n",
       "    <tr>\n",
       "      <th>1</th>\n",
       "      <td>563214</td>\n",
       "      <td>22383</td>\n",
       "      <td>Lunch bag suki design</td>\n",
       "      <td>2</td>\n",
       "      <td>2019-8-14</td>\n",
       "      <td>3.65</td>\n",
       "      <td>16370.0</td>\n",
       "      <td>United Kingdom</td>\n",
       "    </tr>\n",
       "    <tr>\n",
       "      <th>2</th>\n",
       "      <td>507597</td>\n",
       "      <td>22561</td>\n",
       "      <td>Wooden school colouring set</td>\n",
       "      <td>12</td>\n",
       "      <td>2018-5-10</td>\n",
       "      <td>3.65</td>\n",
       "      <td>17700.0</td>\n",
       "      <td>United Kingdom</td>\n",
       "    </tr>\n",
       "  </tbody>\n",
       "</table>\n",
       "</div>"
      ],
      "text/plain": [
       "     Bill MerchandiseID                        Product  Quota    BillDate  \\\n",
       "0  532657         21314  Small glass heart trinket pot     12  2018-11-14   \n",
       "1  563214         22383         Lunch bag suki design       2   2019-8-14   \n",
       "2  507597         22561    Wooden school colouring set     12   2018-5-10   \n",
       "\n",
       "   Amount  CustomerID         Country  \n",
       "0    4.10     14562.0  United Kingdom  \n",
       "1    3.65     16370.0  United Kingdom  \n",
       "2    3.65     17700.0  United Kingdom  "
      ]
     },
     "execution_count": 183,
     "metadata": {},
     "output_type": "execute_result"
    }
   ],
   "source": [
    "df.drop_duplicates()\n",
    "df.head(3)"
   ]
  },
  {
   "cell_type": "markdown",
   "metadata": {},
   "source": [
    "### EDA and Data Visualizations"
   ]
  },
  {
   "cell_type": "markdown",
   "metadata": {},
   "source": [
    "Adding the Total Price or Total Amount column for each transaction"
   ]
  },
  {
   "cell_type": "code",
   "execution_count": 184,
   "metadata": {},
   "outputs": [
    {
     "data": {
      "text/html": [
       "<div>\n",
       "<style scoped>\n",
       "    .dataframe tbody tr th:only-of-type {\n",
       "        vertical-align: middle;\n",
       "    }\n",
       "\n",
       "    .dataframe tbody tr th {\n",
       "        vertical-align: top;\n",
       "    }\n",
       "\n",
       "    .dataframe thead th {\n",
       "        text-align: right;\n",
       "    }\n",
       "</style>\n",
       "<table border=\"1\" class=\"dataframe\">\n",
       "  <thead>\n",
       "    <tr style=\"text-align: right;\">\n",
       "      <th></th>\n",
       "      <th>Bill</th>\n",
       "      <th>MerchandiseID</th>\n",
       "      <th>CustomerID</th>\n",
       "      <th>BillDate</th>\n",
       "      <th>Product</th>\n",
       "      <th>Quota</th>\n",
       "      <th>Amount</th>\n",
       "      <th>Total_Amount</th>\n",
       "      <th>Country</th>\n",
       "    </tr>\n",
       "  </thead>\n",
       "  <tbody>\n",
       "    <tr>\n",
       "      <th>0</th>\n",
       "      <td>532657</td>\n",
       "      <td>21314</td>\n",
       "      <td>14562.0</td>\n",
       "      <td>2018-11-14</td>\n",
       "      <td>Small glass heart trinket pot</td>\n",
       "      <td>12</td>\n",
       "      <td>4.10</td>\n",
       "      <td>49.2</td>\n",
       "      <td>United Kingdom</td>\n",
       "    </tr>\n",
       "    <tr>\n",
       "      <th>1</th>\n",
       "      <td>563214</td>\n",
       "      <td>22383</td>\n",
       "      <td>16370.0</td>\n",
       "      <td>2019-8-14</td>\n",
       "      <td>Lunch bag suki design</td>\n",
       "      <td>2</td>\n",
       "      <td>3.65</td>\n",
       "      <td>7.3</td>\n",
       "      <td>United Kingdom</td>\n",
       "    </tr>\n",
       "  </tbody>\n",
       "</table>\n",
       "</div>"
      ],
      "text/plain": [
       "     Bill MerchandiseID  CustomerID    BillDate  \\\n",
       "0  532657         21314     14562.0  2018-11-14   \n",
       "1  563214         22383     16370.0   2019-8-14   \n",
       "\n",
       "                         Product  Quota  Amount  Total_Amount         Country  \n",
       "0  Small glass heart trinket pot     12    4.10          49.2  United Kingdom  \n",
       "1         Lunch bag suki design       2    3.65           7.3  United Kingdom  "
      ]
     },
     "execution_count": 184,
     "metadata": {},
     "output_type": "execute_result"
    }
   ],
   "source": [
    "df['Total_Amount']=df['Quota'] * df['Amount']\n",
    "\n",
    "#Organizing the columns\n",
    "df=df[['Bill','MerchandiseID','CustomerID','BillDate','Product','Quota','Amount','Total_Amount','Country']]\n",
    "df.head(2)"
   ]
  },
  {
   "cell_type": "markdown",
   "metadata": {},
   "source": [
    "Converting BillDate column data type to datetime column"
   ]
  },
  {
   "cell_type": "code",
   "execution_count": 185,
   "metadata": {},
   "outputs": [
    {
     "name": "stdout",
     "output_type": "stream",
     "text": [
      "<class 'pandas.core.frame.DataFrame'>\n",
      "Int64Index: 824364 entries, 0 to 1067370\n",
      "Data columns (total 9 columns):\n",
      " #   Column         Non-Null Count   Dtype         \n",
      "---  ------         --------------   -----         \n",
      " 0   Bill           824364 non-null  object        \n",
      " 1   MerchandiseID  824364 non-null  object        \n",
      " 2   CustomerID     824364 non-null  float64       \n",
      " 3   BillDate       824364 non-null  datetime64[ns]\n",
      " 4   Product        824364 non-null  object        \n",
      " 5   Quota          824364 non-null  int64         \n",
      " 6   Amount         824364 non-null  float64       \n",
      " 7   Total_Amount   824364 non-null  float64       \n",
      " 8   Country        824364 non-null  object        \n",
      "dtypes: datetime64[ns](1), float64(3), int64(1), object(4)\n",
      "memory usage: 62.9+ MB\n"
     ]
    }
   ],
   "source": [
    "df['BillDate']=pd.to_datetime(df['BillDate'],format='%Y-%m-%d')\n",
    "df.info()"
   ]
  },
  {
   "cell_type": "markdown",
   "metadata": {},
   "source": [
    "Top 10 Most Purchased Product \n",
    "\n",
    "As shown below the most purchased products are White hanging heart t-light holder, ,Regency cakestand 3 tier, Assorted colour bird ornament ,Jumbo bag red retrospot, Lunch bag  black skull, Rex cash+carry jumbo shopper, Party bunting , Strawberry ceramic trinket box etc. This means that most of the company's sales are being generated from these products. "
   ]
  },
  {
   "cell_type": "code",
   "execution_count": 186,
   "metadata": {},
   "outputs": [
    {
     "data": {
      "text/plain": [
       "White hanging heart t-light holder    5315\n",
       "Regency cakestand 3 tier              3777\n",
       "Assorted colour bird ornament         2794\n",
       "Jumbo bag red retrospot               2776\n",
       "Lunch bag  black skull.               2161\n",
       "Rex cash+carry jumbo shopper          2150\n",
       "Party bunting                         2144\n",
       "Strawberry ceramic trinket box        2106\n",
       "Postage                               2019\n",
       "Baking set 9 piece retrospot          1976\n",
       "Name: Product, dtype: int64"
      ]
     },
     "execution_count": 186,
     "metadata": {},
     "output_type": "execute_result"
    }
   ],
   "source": [
    "Most_Purchased_Product= df['Product'].value_counts()\n",
    "Most_Purchased_Product.head(10)"
   ]
  },
  {
   "cell_type": "markdown",
   "metadata": {},
   "source": [
    "Top 10 Countries Generating most of the Revenue\n",
    "\n",
    "as shown below most of the companies revenue is generated from United Kingdom,\n",
    "Netherlands, EIRE and so on meaning these countries have most the compan's customers."
   ]
  },
  {
   "cell_type": "code",
   "execution_count": 187,
   "metadata": {},
   "outputs": [
    {
     "name": "stdout",
     "output_type": "stream",
     "text": [
      "          Country  Total_Amount\n",
      "0  United Kingdom  3.051343e+07\n",
      "1     Netherlands  1.312427e+06\n",
      "2            EIRE  1.205248e+06\n",
      "3         Germany  8.671506e+05\n",
      "4          France  6.931827e+05\n",
      "5         Denmark  5.361771e+05\n",
      "6       Australia  3.745411e+05\n",
      "7          Sweden  2.629294e+05\n",
      "8     Switzerland  2.027448e+05\n",
      "9           Spain  1.821715e+05\n"
     ]
    },
    {
     "data": {
      "text/plain": [
       "Text(0, 0.5, 'Total_Sales')"
      ]
     },
     "execution_count": 187,
     "metadata": {},
     "output_type": "execute_result"
    },
    {
     "data": {
      "image/png": "[encoded data removed]",
      "text/plain": [
       "<Figure size 1440x648 with 1 Axes>"
      ]
     },
     "metadata": {
      "needs_background": "light"
     },
     "output_type": "display_data"
    }
   ],
   "source": [
    "Top_10_Countries=df.groupby('Country')[['Total_Amount']].sum().sort_values('Total_Amount',ascending=False).reset_index().head(10)\n",
    "print(Top_10_Countries)\n",
    "fig=plt.figure(figsize=(20,9))\n",
    "sns.barplot(data=Top_10_Countries,x='Country',y='Total_Amount',palette='dark')\n",
    "plt.title('Top 10 countries generating most of the Revenue',size=25)\n",
    "plt.xlabel('Country',size='25')\n",
    "plt.ylabel('Total_Sales',size='25')"
   ]
  },
  {
   "cell_type": "markdown",
   "metadata": {},
   "source": [
    "Top 10 countries with worst revenue\n",
    "\n",
    "These are countries with low total sales for the company. The company needs a better marketing strategy so that sales can be increased in these regions."
   ]
  },
  {
   "cell_type": "code",
   "execution_count": 188,
   "metadata": {},
   "outputs": [
    {
     "name": "stdout",
     "output_type": "stream",
     "text": [
      "              Country  Total_Amount\n",
      "0        Saudi Arabia        281.17\n",
      "1             Nigeria        346.39\n",
      "2         West Indies       1326.41\n",
      "3      Czech Republic       1891.72\n",
      "4               Korea       2145.82\n",
      "5  European Community       2285.75\n",
      "6             Lebanon       2465.88\n",
      "7              Brazil       2501.87\n",
      "8             Bahrain       2864.37\n",
      "9                 RSA       3819.74\n"
     ]
    },
    {
     "data": {
      "text/plain": [
       "Text(0, 0.5, 'Total_Sales')"
      ]
     },
     "execution_count": 188,
     "metadata": {},
     "output_type": "execute_result"
    },
    {
     "data": {
      "image/png": "[encoded data removed]",
      "text/plain": [
       "<Figure size 1440x648 with 1 Axes>"
      ]
     },
     "metadata": {
      "needs_background": "light"
     },
     "output_type": "display_data"
    }
   ],
   "source": [
    "Top_10_Countries=df.groupby('Country')[['Total_Amount']].sum().sort_values('Total_Amount',ascending=True).reset_index().head(10)\n",
    "print(Top_10_Countries)\n",
    "fig=plt.figure(figsize=(20,9))\n",
    "sns.barplot(data=Top_10_Countries,x='Country',y='Total_Amount',palette='coolwarm')\n",
    "plt.title('Bottom 10 countries generating low Revenue',size=25)\n",
    "plt.xlabel('Country',size='25')\n",
    "plt.ylabel('Total_Sales',size='25')"
   ]
  },
  {
   "cell_type": "markdown",
   "metadata": {},
   "source": [
    "TOTAL SALES PER YEAR\n",
    "\n",
    "The below analytics shows that most of the company's sales were generated in 2018, then following by a slight decrease in 2019. Its difficult to analyse the 2017 data of the company as it shows data for the month of December only."
   ]
  },
  {
   "cell_type": "code",
   "execution_count": 189,
   "metadata": {},
   "outputs": [
    {
     "name": "stdout",
     "output_type": "stream",
     "text": [
      "Year\n",
      "2017    1.443844e+06\n",
      "2018    1.870617e+07\n",
      "2019    1.696653e+07\n",
      "Name: Total_Amount, dtype: float64\n"
     ]
    },
    {
     "data": {
      "text/plain": [
       "Text(0, 0.5, 'Total_Sales')"
      ]
     },
     "execution_count": 189,
     "metadata": {},
     "output_type": "execute_result"
    },
    {
     "data": {
      "image/png": "[encoded data removed]",
      "text/plain": [
       "<Figure size 1440x648 with 1 Axes>"
      ]
     },
     "metadata": {
      "needs_background": "light"
     },
     "output_type": "display_data"
    }
   ],
   "source": [
    "df['Year']=df['BillDate'].dt.year\n",
    "Total_Yearly_Sales=df.groupby('Year')['Total_Amount'].sum()\n",
    "print(Total_Yearly_Sales)\n",
    "fig=plt.figure(figsize=(20,9))\n",
    "sns.barplot(data=Total_Yearly_Sales.reset_index(), x=Total_Yearly_Sales.index,y='Total_Amount',palette='magma')\n",
    "plt.title('Total Sales per Year',size=25)\n",
    "plt.xlabel('Year',size='25')\n",
    "plt.ylabel('Total_Sales',size='25')"
   ]
  },
  {
   "cell_type": "markdown",
   "metadata": {},
   "source": [
    "Calculating the total sales per month for each year\n",
    "\n",
    "As shown below, 2017 has a total sales for December only. In 2018, the month of July generated the least total sales of about 1M and November was the most profitable month with about 2.7M total sales. In the year 2019, December was least month which got about 886K total sales and November again showed that it is the most generating revenue month with about 2.9M total sales."
   ]
  },
  {
   "cell_type": "code",
   "execution_count": 190,
   "metadata": {},
   "outputs": [
    {
     "name": "stdout",
     "output_type": "stream",
     "text": [
      "   Month  Total_Amount\n",
      "0     12    1443844.05\n"
     ]
    }
   ],
   "source": [
    "df['Year']=df['BillDate'].dt.year\n",
    "df['Month']=df['BillDate'].dt.month\n",
    "Total_Monthly_Sales=df[df['Year']==2017]\n",
    "Total_Monthly_Sales=Total_Monthly_Sales.groupby('Month')['Total_Amount',].sum()\n",
    "print(Total_Monthly_Sales.reset_index())\n"
   ]
  },
  {
   "cell_type": "code",
   "execution_count": 191,
   "metadata": {},
   "outputs": [
    {
     "name": "stdout",
     "output_type": "stream",
     "text": [
      "    Month  Total_Amount\n",
      "0       1   1266234.902\n",
      "1       2   1222033.586\n",
      "2       3   1634056.481\n",
      "3       4   1251815.022\n",
      "4       5   1299376.550\n",
      "5       6   1323933.910\n",
      "6       7   1201931.900\n",
      "7       8   1481108.460\n",
      "8       9   1729257.301\n",
      "9      10   2139303.780\n",
      "10     11   2412259.282\n",
      "11     12   1744859.370\n"
     ]
    },
    {
     "data": {
      "text/plain": [
       "Text(0, 0.5, 'Total_Sales')"
      ]
     },
     "execution_count": 191,
     "metadata": {},
     "output_type": "execute_result"
    },
    {
     "data": {
      "image/png": "[encoded data removed]",
      "text/plain": [
       "<Figure size 1440x648 with 1 Axes>"
      ]
     },
     "metadata": {
      "needs_background": "light"
     },
     "output_type": "display_data"
    }
   ],
   "source": [
    "df['Year']=df['BillDate'].dt.year\n",
    "df['Month']=df['BillDate'].dt.month\n",
    "Total_Monthly_Sales=df[df['Year']==2018]\n",
    "Total_Monthly_Sales=Total_Monthly_Sales.groupby('Month')['Total_Amount'].sum()\n",
    "print(Total_Monthly_Sales.reset_index())\n",
    "fig=plt.figure(figsize=(20,9))\n",
    "sns.lineplot(x='Month',y='Total_Amount',data=Total_Monthly_Sales.reset_index(),lw=4)\n",
    "plt.title('Total Sales per Month for 2018',size=25)\n",
    "plt.xlabel('Month',size='25')\n",
    "plt.ylabel('Total_Sales',size='25')"
   ]
  },
  {
   "cell_type": "code",
   "execution_count": 192,
   "metadata": {},
   "outputs": [
    {
     "name": "stdout",
     "output_type": "stream",
     "text": [
      "    Month  Total_Amount\n",
      "0       1   1013832.380\n",
      "1       2    962212.150\n",
      "2       3   1267988.610\n",
      "3       4    983217.851\n",
      "4       5   1383955.080\n",
      "5       6   1321857.160\n",
      "6       7   1301074.481\n",
      "7       8   1389592.000\n",
      "8       9   2006432.372\n",
      "9      10   2113935.590\n",
      "10     11   2472237.740\n",
      "11     12    750198.380\n"
     ]
    },
    {
     "data": {
      "text/plain": [
       "Text(0, 0.5, 'Total_Sales')"
      ]
     },
     "execution_count": 192,
     "metadata": {},
     "output_type": "execute_result"
    },
    {
     "data": {
      "image/png": "[encoded data removed]",
      "text/plain": [
       "<Figure size 1440x648 with 1 Axes>"
      ]
     },
     "metadata": {
      "needs_background": "light"
     },
     "output_type": "display_data"
    }
   ],
   "source": [
    "df['Year']=df['BillDate'].dt.year\n",
    "df['Month']=df['BillDate'].dt.month\n",
    "Total_Monthly_Sales=df[df['Year']==2019]\n",
    "Total_Monthly_Sales=Total_Monthly_Sales.groupby('Month')['Total_Amount',].sum()\n",
    "print(Total_Monthly_Sales.reset_index())\n",
    "fig=plt.figure(figsize=(20,9))\n",
    "sns.lineplot(data=Total_Monthly_Sales.reset_index(),x=Total_Monthly_Sales.index,y='Total_Amount',lw=4)\n",
    "plt.title('Total Sales per Month for 2019',size=25)\n",
    "plt.xlabel('Month',size='25')\n",
    "plt.ylabel('Total_Sales',size='25')"
   ]
  },
  {
   "cell_type": "markdown",
   "metadata": {},
   "source": [
    "Top 10 most buying customers"
   ]
  },
  {
   "cell_type": "code",
   "execution_count": 193,
   "metadata": {},
   "outputs": [
    {
     "name": "stdout",
     "output_type": "stream",
     "text": [
      "17841.0    13097\n",
      "14911.0    11613\n",
      "12748.0     7307\n",
      "14606.0     6709\n",
      "14096.0     5128\n",
      "Name: CustomerID, dtype: int64\n"
     ]
    },
    {
     "data": {
      "text/plain": [
       "<matplotlib.axes._subplots.AxesSubplot at 0x2854da104c8>"
      ]
     },
     "execution_count": 193,
     "metadata": {},
     "output_type": "execute_result"
    },
    {
     "data": {
      "image/png": "[encoded data removed]",
      "text/plain": [
       "<Figure size 432x288 with 1 Axes>"
      ]
     },
     "metadata": {},
     "output_type": "display_data"
    }
   ],
   "source": [
    "Top_10_Customers=df['CustomerID'].value_counts().head(5)\n",
    "print(Top_10_Customers)\n",
    "Top_10_Customers.plot(kind='pie',shadow=True,title='Top 5 Customers',autopct='%.0f%%')"
   ]
  },
  {
   "cell_type": "markdown",
   "metadata": {},
   "source": [
    "Summary\n",
    "\n",
    "* We should continue cooperation with United Kingdom, Netherlands, EIRE, Germany, France, Denmark, Australia, Sweden, Switzerland, Spain\n",
    "* The best sales month in 2018 was November and the worst is July\n",
    "* The best sales month in 2019 was again November and the worst was December.\n",
    "* Most Purchased products were White hanging heart t-light holder,Regency cakestand 3 tier, Assorted colour bird ornament, Jumbo bag red retrospot, Lunch bag  black skull."
   ]
  },
  {
   "cell_type": "code",
   "execution_count": null,
   "metadata": {},
   "outputs": [],
   "source": []
  },
  {
   "cell_type": "code",
   "execution_count": null,
   "metadata": {},
   "outputs": [],
   "source": []
  },
  {
   "cell_type": "code",
   "execution_count": null,
   "metadata": {},
   "outputs": [],
   "source": []
  }
 ],
 "metadata": {
  "kernelspec": {
   "display_name": "Python 3",
   "language": "python",
   "name": "python3"
  },
  "language_info": {
   "codemirror_mode": {
    "name": "ipython",
    "version": 3
   },
   "file_extension": ".py",
   "mimetype": "text/x-python",
   "name": "python",
   "nbconvert_exporter": "python",
   "pygments_lexer": "ipython3",
   "version": "3.7.6"
  }
 },
 "nbformat": 4,
 "nbformat_minor": 4
}
